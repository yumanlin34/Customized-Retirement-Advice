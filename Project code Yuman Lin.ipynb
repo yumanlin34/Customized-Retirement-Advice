{
 "cells": [
  {
   "cell_type": "code",
   "execution_count": 1,
   "metadata": {},
   "outputs": [],
   "source": [
    "# author: Yuman Lin\n",
    "# Project 3 for CFRM507\n",
    "\n",
    "import numpy as np\n",
    "import pandas as pd\n",
    "from scipy.stats import norm \n",
    "import matplotlib.pyplot as plt"
   ]
  },
  {
   "cell_type": "markdown",
   "metadata": {},
   "source": [
    "## Input Data"
   ]
  },
  {
   "cell_type": "code",
   "execution_count": 2,
   "metadata": {},
   "outputs": [],
   "source": [
    "# weight of each mix\n",
    "weight = np.array([[30, 30, 10, 10, 10, 10, 0],[25, 25, 10, 10, 20, 10, 0], [25, 21, 8, 8, 30, 8, 0], \n",
    "                 [23, 19, 6, 6, 40, 6, 0], [21, 15, 4, 5, 45, 5, 5], [16, 12, 4, 4, 50, 4, 10], \n",
    "                [13, 9, 2, 3, 55, 3, 15], [8, 6, 1, 2, 51, 2, 30]])/100\n",
    "\n",
    "# Annual fee\n",
    "fee_r = np.array([20, 18, 16, 14, 12, 10, 8, 6])/10000\n",
    "\n",
    "# mean\n",
    "mean = np.array([6, 5.9, 7, 5.6, 1.9, 5.2, 1.5])/100\n",
    "\n",
    "# stdev\n",
    "stdev = np.diag([19.1, 20.2, 26.8, 20.7, 3.8, 7, 5.8])/100\n",
    "\n",
    "# correlation matrix\n",
    "corr = np. array([[1.00, 0.74, 0.67, 0.74, 0.13, 0.47, 0.02], [0.74, 1.00, 0.70, 0.78, 0.09, 0.46, 0.00],\n",
    "                [0.67, 0.70, 1.00, 0.66, 0.07, 0.45, -0.03], [0.74, 0.78, 0.66, 1.00, 0.10, 0.37, -0.03],\n",
    "                [0.13, 0.09, 0.07, 0.10, 1.00, 0.10, 0.10], [0.47, 0.46, 0.45, 0.37, 0.10, 1.00, 0.55],\n",
    "                [0.02, 0.00, -0.03, -0.03, 0.10, 0.55, 1.00]])\n",
    "\n",
    "a = np.diag([19.1, 20.2, 26.8, 20.7, 3.8, 7, 5.8])/100\n",
    "\n",
    "# covariance matrix\n",
    "var = np.dot(np.dot(a, corr),a)\n",
    "\n",
    "TARGET = 2079.2"
   ]
  },
  {
   "cell_type": "code",
   "execution_count": 3,
   "metadata": {},
   "outputs": [
    {
     "data": {
      "text/plain": [
       "array([[ 0.036481  ,  0.02855068,  0.03429596,  0.02925738,  0.00094354,\n",
       "         0.0062839 ,  0.00022156],\n",
       "       [ 0.02855068,  0.040804  ,  0.0378952 ,  0.03261492,  0.00069084,\n",
       "         0.0065044 ,  0.        ],\n",
       "       [ 0.03429596,  0.0378952 ,  0.071824  ,  0.03661416,  0.00071288,\n",
       "         0.008442  , -0.00046632],\n",
       "       [ 0.02925738,  0.03261492,  0.03661416,  0.042849  ,  0.0007866 ,\n",
       "         0.0053613 , -0.00036018],\n",
       "       [ 0.00094354,  0.00069084,  0.00071288,  0.0007866 ,  0.001444  ,\n",
       "         0.000266  ,  0.0002204 ],\n",
       "       [ 0.0062839 ,  0.0065044 ,  0.008442  ,  0.0053613 ,  0.000266  ,\n",
       "         0.0049    ,  0.002233  ],\n",
       "       [ 0.00022156,  0.        , -0.00046632, -0.00036018,  0.0002204 ,\n",
       "         0.002233  ,  0.003364  ]])"
      ]
     },
     "execution_count": 3,
     "metadata": {},
     "output_type": "execute_result"
    }
   ],
   "source": [
    "# covariance matrix: log normal to normal distribution\n",
    "var"
   ]
  },
  {
   "cell_type": "code",
   "execution_count": 4,
   "metadata": {},
   "outputs": [
    {
     "name": "stdout",
     "output_type": "stream",
     "text": [
      "variance of each mix\n",
      "[0.023257769599999995, 0.0182376319, 0.014312408339999999, 0.010969508203999999, 0.007798500907999998, 0.005343254368, 0.003379079508, 0.0019351333599999998]\n",
      "return of each mix\n",
      "[0.0554, 0.05135, 0.04733, 0.04329, 0.03895, 0.0348, 0.030449999999999998, 0.02539]\n"
     ]
    }
   ],
   "source": [
    "# calculate the variance of each mix\n",
    "variance = []\n",
    "for i in range(8):\n",
    "    w0 = weight[i]\n",
    "    w1 = w0.T\n",
    "    temp = np.dot(np.dot(w1, var), w0)\n",
    "    variance.append(temp)\n",
    "print(\"variance of each mix\")\n",
    "print(variance)\n",
    "\n",
    "# calculate the mean of the return of each mix\n",
    "mean_return = []\n",
    "for i in range(8):\n",
    "    temp = sum(weight[i]*mean)\n",
    "    mean_return.append(temp)\n",
    "print(\"return of each mix\")\n",
    "print(mean_return)"
   ]
  },
  {
   "cell_type": "markdown",
   "metadata": {},
   "source": [
    "## Explanation for log normal and normal\n",
    "Draw random samples from a multivariate lognormal distribution.\n",
    "The multivariate lognormal is a generalization of the one-dimensional\n",
    "lognormal distribution to higher dimensions.  Such a distribution\n",
    "is specified by its mean and covariance matrix.  These parameters\n",
    "are analogous to the mean (average or \"center\") and\n",
    "variance (standard deviation, or \"width,\" squared) of the\n",
    "one-dimensional lognormal distribution.\n",
    "\n",
    "Parameters\n",
    "    \n",
    "    mean : 1-D array_like, of length N\n",
    "        Mean of the N-dimensional distribution.\n",
    "    cov : 2-D array_like, of shape (N, N)\n",
    "        Covariance matrix of the distribution. It must be symmetric and\n",
    "        positive-semidefinite for proper sampling.\n",
    "    size : int or tuple of ints, optional\n",
    "        Given a shape of, for example, ``(m,n,k)``, ``m*n*k`` samples are\n",
    "        generated, and packed in an `m`-by-`n`-by-`k` arrangement.  Because\n",
    "        each sample is `N`-dimensional, the output shape is ``(m,n,k,N)``.\n",
    "        If no shape is specified, a single (`N`-D) sample is returned.\n",
    "    clip: boolean, optional\n",
    "        Clip the spectrum of the normal covariance matrix in order to ensure\n",
    "        that the conversion from lognormal to normal does not violate the\n",
    "        non-negative semi-definiteness of the covariance matrix.\n",
    "    spectrum_min: float, optional\n",
    "        The clipping value for the eigenvalues of the covariance matrix for the\n",
    "        associated normal distribution.\n",
    "Returns\n",
    "    \n",
    "    out : ndarray\n",
    "        The drawn samples, of shape *size*, if that was provided.  If not,\n",
    "        the shape is ``(N,)``.\n",
    "        In other words, each entry ``out[i,j,...,:]`` is an N-dimensional\n",
    "        value drawn from the distribution.\n",
    "Notes\n",
    "    \n",
    "    The samples for a multivariate lognormal distribution are drawn by computing\n",
    "    the mean vector and covariance matrix for the associated normal distribution.\n",
    "    The normal samples are then exponentiated in order to obtain the multivariate\n",
    "    lognormal samples.\n"
   ]
  },
  {
   "cell_type": "code",
   "execution_count": 5,
   "metadata": {},
   "outputs": [],
   "source": [
    "# log normal stuffs\n",
    "def _convert_lognormal_params(mu, cov):\n",
    "    \"\"\"\n",
    "    Helper function to convert lognormal means and covariances to normal\n",
    "    means and covariances.\n",
    "    \"\"\"\n",
    "    sigma = np.diag(cov)\n",
    "    norm_sigma = np.log(1 + (sigma / (mu ** 2)))\n",
    "    norm_mu = np.log(mu) - 0.5 * norm_sigma\n",
    "    i, j = np.indices(cov.shape)\n",
    "    norm_cov = np.log(1 + cov[i, j]/((1 + norm_mu[i])*(1 + norm_mu[j])))\n",
    "    #norm_cov = np.log(1 + (cov[i, j] / np.exp(norm_mu[i] + norm_mu[j] + 0.5 * (norm_sigma[i] + norm_sigma[j]))))\n",
    "    return norm_mu, norm_cov\n",
    "\n",
    "\n",
    "def multivariate_lognormal(mu, cov, size=1, clip=False, spectrum_min=1e-12):\n",
    "    # y = ln(1+r) is normal distribution\n",
    "    mu = mu + 1\n",
    "    norm_mu, norm_cov = _convert_lognormal_params(mu, cov)\n",
    "    \n",
    "    if clip is True:\n",
    "        eigen_vals, eigen_vec = np.linalg.eig(norm_cov)\n",
    "        eigen_vals[eigen_vals <= 0] = spectrum_min\n",
    "        norm_cov = np.dot(eigen_vec, eigen_vals[:, np.newaxis] * eigen_vec.T)\n",
    "    norm_samples = np.random.multivariate_normal(norm_mu, norm_cov, size=size)\n",
    "    # y is normal distribution, so that np.exp(y)-1 = r\n",
    "    return np.exp(norm_samples) - 1"
   ]
  },
  {
   "cell_type": "code",
   "execution_count": 6,
   "metadata": {},
   "outputs": [],
   "source": [
    "# generate N * 8 matrix for return of mix\n",
    "def generate_scenario(N):\n",
    "    # shape: N * 8\n",
    "    return np.dot(multivariate_lognormal(mean, var, N), weight.T)"
   ]
  },
  {
   "cell_type": "code",
   "execution_count": 7,
   "metadata": {},
   "outputs": [],
   "source": [
    "# new contribution for each age, 15% of the income\n",
    "def get_saving(age):\n",
    "    return (103.63 - 0.03 * (55 - age)) * 0.15"
   ]
  },
  {
   "cell_type": "code",
   "execution_count": 8,
   "metadata": {},
   "outputs": [],
   "source": [
    "# utility function\n",
    "def utility(x, TARGET):\n",
    "    if x > TARGET:\n",
    "        return x**0.7/0.7\n",
    "    else:\n",
    "        return x**0.7/0.7 - (TARGET-x)**2/5000"
   ]
  },
  {
   "cell_type": "markdown",
   "metadata": {},
   "source": [
    "## Step 1: generate scenario and build tables  \n",
    "\n",
    "(1) Important variables: N_SCENARIO (number of the scenario), young and old (the range of account balance), step (the density of account balance).    \n",
    "(2) Generate a scenario tree given the number of the scenrio.    \n",
    "(3) Step 1: construct a class to record tables with last mix, account balance, decision and utility from current age to retirement. In other words, every age has a table. Given the account balance and last decision, it records the decision for this year and expected utility.    \n",
    "(4) At age 67, we can calculate the utility with the utility function directly but from the age 66 and younger, we need to use dynamic programming and backward recursion to get the expected utility.   \n",
    "(5) For the first year, clients does not have any restrictions on mixs so that they will choose the mix with max uitility among 8 mixs. (function: get_first_action)  "
   ]
  },
  {
   "cell_type": "code",
   "execution_count": 9,
   "metadata": {},
   "outputs": [],
   "source": [
    "# the number of the scenario\n",
    "N_SCENARIO = 10000\n",
    "\n",
    "# every time the code will get a same random number\n",
    "np.random.seed(1)\n",
    "\n",
    "# Step One: generate tables for each year\n",
    "class Years_Data():\n",
    "    def __init__(self, young, old, low, high, step, mix=8):\n",
    "        # young: the youngest current age among six clients\n",
    "        # old: the age for retirement\n",
    "        # low: the smallest amount of account balance in the table\n",
    "        # high: the largest amount of account balance in the table\n",
    "        # mix: 1 to 8\n",
    "        # step: step in account balance\n",
    "        \n",
    "        # (low, high)\n",
    "        # balance, mix, [utility, action]\n",
    "        assert old > young and high > low\n",
    "        self.low = low\n",
    "        self.high = high\n",
    "        self.step = step\n",
    "        self.mix = mix\n",
    "        self.young = young\n",
    "        self.old = old\n",
    "        \n",
    "        # balance: from low to high, from low to high\n",
    "        # np.arange(5,15+1, 5)   (5, 10, 15)\n",
    "        self.balance = np.arange(low,high+1,step)\n",
    "        \n",
    "        # different years, account balance, mix, (utility and action)\n",
    "        # each year has its own table to record bal, mix (last decision), (utility and mix: action for this year)\n",
    "        self.table = np.zeros((old - young + 1, self.balance.shape[0], mix, 2))\n",
    "        \n",
    "        # index: to get data in a convenient way\n",
    "        self.mix_index = np.moveaxis(np.tile(np.arange(self.mix), (self.balance.shape[0], N_SCENARIO, 1)), 1, -1)\n",
    "        \n",
    "        self.construct_table()\n",
    "        \n",
    "    # construct table from year 66 (table index: 1) to youngest year\n",
    "    def construct_year(self, cur_year):\n",
    "        scenario = 1 + generate_scenario(N_SCENARIO) - fee_r # N * 8 matrix for (1 + r - fee_rate)\n",
    "        saving = get_saving(self.old - cur_year) # a single scalar \n",
    "        \n",
    "        new_balance = np.array([b * scenario + saving for b in self.balance]) # bal * N_SCENARIO * 8\n",
    "        new_balance = np.moveaxis(new_balance, 1, -1) # bal * 8 * 1000\n",
    "        #print(\"new_balance shape\", new_balance.shape)\n",
    "        \n",
    "        # get ceil and floor\n",
    "        # some account balances are among two specific numbers in next year table, need interpolation\n",
    "        ceil_indx = np.ceil((new_balance - self.low)/ self.step).astype('int') # bal * 8 * N_SCENARIO\n",
    "        floor_indx = np.floor((new_balance - self.low) / self.step).astype('int') # bal * 8 * N_SCENARIO\n",
    "        \n",
    "        # Clip (limit) the values in an array.\n",
    "        # Given an interval, values outside the interval are clipped to the interval edges.\n",
    "        # value out the range: use the maximum value in the range to replace it.\n",
    "        ceil_indx = np.clip(ceil_indx, 0, self.balance.shape[0]-1)\n",
    "        floor_indx = np.clip(floor_indx, 0, self.balance.shape[0]-1)\n",
    "        #print(\"ceil_index shape\", ceil_indx.shape)\n",
    "        #print(\"floor_index shape\", floor_indx.shape)\n",
    "        #print(\"mix_indx shape\", self.mix_index.shape)\n",
    "        #print(self.balance.shape)\n",
    "        \n",
    "        # look up utility from next year\n",
    "        ceil_util = self.table[cur_year-1, ceil_indx, self.mix_index, 0]\n",
    "        floor_util = self.table[cur_year-1, floor_indx, self.mix_index, 0]\n",
    "        \n",
    "        # linear interpolation, shape: bal * 8 * N_SCENARIO\n",
    "        # if ceil_indx = low_indx, the bal is out the range, it should be equal to the max or min of the balance table\n",
    "        #print((ceil_util != floor_util).sum())\n",
    "        new_util = (ceil_util != floor_util) * ((self.balance[ceil_indx] - new_balance) * floor_util + (new_balance - self.balance[floor_indx]) * ceil_util) / self.step + (ceil_util == floor_util) * ceil_util\n",
    "        \n",
    "        #print(\"new_tile shape\", new_util)\n",
    "        \n",
    "        # calculate the mean of utility\n",
    "        # shape: bal * 8, expected util if take this mix at this balance\n",
    "        new_util = new_util.mean(-1) \n",
    "        \n",
    "        # fill in table of this year\n",
    "        # get index of row and column\n",
    "        row, col = np.indices((self.balance.shape[0], self.mix))\n",
    "        \n",
    "        # only can choose from i-1, i, i+1\n",
    "        # for mix 1, only can choose 1 and 2; for mix 8: only can choose 7 and 8\n",
    "        mix_action = np.clip([[i-1, i, i+1] for i in np.arange(8)], 0, self.mix-1) # 8 * 3\n",
    "        # for every balance\n",
    "        mix_action = np.tile(mix_action, (self.balance.shape[0], 1, 1)) # bal * 8 * 3\n",
    "        bal_indx = np.moveaxis(np.tile(row, (3, 1, 1)), 0, -1) # bal * 8 * 3\n",
    "        \n",
    "        # get the max from i-1, i and i+1\n",
    "        max_action = np.argmax(new_util[bal_indx, mix_action], axis = -1) # bal * 8\n",
    "        \n",
    "        # get the max index, 0, 1 and 2\n",
    "        self.table[cur_year, :, :, 1] = mix_action[row, col, max_action]\n",
    "        #print(\"new_util shape\", new_util.shape)\n",
    "        #print(\"row shape\", row.shape)\n",
    "        #print(\"mix_action shape\", mix_action.shape)\n",
    "        #print(\"max_action shape\", max_action.shape)\n",
    "        \n",
    "        # fill in the table with max action: index 0: mix i-1; index 1: mix i, index 2: mix i+1\n",
    "        max_action = mix_action[row, col, max_action]\n",
    "        #print(\"max_action shape\", max_action.shape)\n",
    "        self.table[cur_year, :, :, 0] = new_util[row, max_action]        \n",
    "    \n",
    "    # construct the table for each year, bal, mix for last time, utility and decision\n",
    "    def construct_table(self):\n",
    "        # construct oldest\n",
    "        # retirement age: 67, use utility function to calculate its utility directly\n",
    "        self.table[0, :, :, 0] = np.tile((self.balance**0.7)/0.7 - (self.balance <= TARGET) * ((TARGET - self.balance)**2)/5000, (self.mix, 1)).T\n",
    "        \n",
    "        # other ages\n",
    "        # dynamic programming, backward recursion\n",
    "        cur_year = self.old - 1\n",
    "        while cur_year >= self.young:\n",
    "            print(\"constructing \" + str(cur_year) + \"...\")\n",
    "            # backward, table 0 is Age 67, and table 1 is Age (67-66)...\n",
    "            self.construct_year(self.old - cur_year)\n",
    "            cur_year -= 1\n",
    "    \n",
    "    # simulate actions, for step 2\n",
    "    def simulate_actions(self, age, balance, action):\n",
    "        assert age >= self.young and age <= self.old\n",
    "        assert balance.shape == action.shape\n",
    "        balance = np.clip(balance, self.low, self.high)\n",
    "        return self.table[self.old-age, (np.round((balance - self.low) / self.step)).astype(int), action, 1]\n",
    "    \n",
    "    # get current mix, no restriction, choose the mix with max utility in step 1\n",
    "    def get_first_action(self, age, balance):\n",
    "        # assume balance is scalar\n",
    "        assert age >= self.young and age <= self.old\n",
    "        balance = max(self.low, min(self.high, balance)) # clip\n",
    "        \n",
    "        balance = np.round((balance - self.low)/self.step)\n",
    "        \n",
    "        return np.argmax(self.table[self.old-age, int(balance),:, 0])"
   ]
  },
  {
   "cell_type": "markdown",
   "metadata": {},
   "source": [
    "## construct tables for each year"
   ]
  },
  {
   "cell_type": "code",
   "execution_count": 10,
   "metadata": {
    "scrolled": true
   },
   "outputs": [
    {
     "name": "stdout",
     "output_type": "stream",
     "text": [
      "constructing 66...\n",
      "constructing 65...\n",
      "constructing 64...\n",
      "constructing 63...\n",
      "constructing 62...\n",
      "constructing 61...\n",
      "constructing 60...\n",
      "constructing 59...\n",
      "constructing 58...\n",
      "constructing 57...\n",
      "constructing 56...\n",
      "constructing 55...\n",
      "constructing 54...\n",
      "constructing 53...\n",
      "constructing 52...\n",
      "constructing 51...\n",
      "constructing 50...\n"
     ]
    }
   ],
   "source": [
    "# youngest year in the data:50\n",
    "# retirement year: 67\n",
    "# balance range: [40, 10000]\n",
    "# step: 20\n",
    "# mix number: 8\n",
    "year = Years_Data(50, 67, 0, 10000, 20, 8)"
   ]
  },
  {
   "cell_type": "code",
   "execution_count": 11,
   "metadata": {},
   "outputs": [
    {
     "data": {
      "text/plain": [
       "array([[0, 0, 0, ..., 0, 0, 0],\n",
       "       [1, 1, 1, ..., 1, 1, 1],\n",
       "       [2, 2, 2, ..., 2, 2, 2],\n",
       "       ...,\n",
       "       [5, 5, 5, ..., 5, 5, 5],\n",
       "       [6, 6, 6, ..., 6, 6, 6],\n",
       "       [7, 7, 7, ..., 7, 7, 7]])"
      ]
     },
     "execution_count": 11,
     "metadata": {},
     "output_type": "execute_result"
    }
   ],
   "source": [
    "year.mix_index[0]"
   ]
  },
  {
   "cell_type": "code",
   "execution_count": 12,
   "metadata": {},
   "outputs": [
    {
     "data": {
      "text/plain": [
       "array([    0,    20,    40,    60,    80,   100,   120,   140,   160,\n",
       "         180,   200,   220,   240,   260,   280,   300,   320,   340,\n",
       "         360,   380,   400,   420,   440,   460,   480,   500,   520,\n",
       "         540,   560,   580,   600,   620,   640,   660,   680,   700,\n",
       "         720,   740,   760,   780,   800,   820,   840,   860,   880,\n",
       "         900,   920,   940,   960,   980,  1000,  1020,  1040,  1060,\n",
       "        1080,  1100,  1120,  1140,  1160,  1180,  1200,  1220,  1240,\n",
       "        1260,  1280,  1300,  1320,  1340,  1360,  1380,  1400,  1420,\n",
       "        1440,  1460,  1480,  1500,  1520,  1540,  1560,  1580,  1600,\n",
       "        1620,  1640,  1660,  1680,  1700,  1720,  1740,  1760,  1780,\n",
       "        1800,  1820,  1840,  1860,  1880,  1900,  1920,  1940,  1960,\n",
       "        1980,  2000,  2020,  2040,  2060,  2080,  2100,  2120,  2140,\n",
       "        2160,  2180,  2200,  2220,  2240,  2260,  2280,  2300,  2320,\n",
       "        2340,  2360,  2380,  2400,  2420,  2440,  2460,  2480,  2500,\n",
       "        2520,  2540,  2560,  2580,  2600,  2620,  2640,  2660,  2680,\n",
       "        2700,  2720,  2740,  2760,  2780,  2800,  2820,  2840,  2860,\n",
       "        2880,  2900,  2920,  2940,  2960,  2980,  3000,  3020,  3040,\n",
       "        3060,  3080,  3100,  3120,  3140,  3160,  3180,  3200,  3220,\n",
       "        3240,  3260,  3280,  3300,  3320,  3340,  3360,  3380,  3400,\n",
       "        3420,  3440,  3460,  3480,  3500,  3520,  3540,  3560,  3580,\n",
       "        3600,  3620,  3640,  3660,  3680,  3700,  3720,  3740,  3760,\n",
       "        3780,  3800,  3820,  3840,  3860,  3880,  3900,  3920,  3940,\n",
       "        3960,  3980,  4000,  4020,  4040,  4060,  4080,  4100,  4120,\n",
       "        4140,  4160,  4180,  4200,  4220,  4240,  4260,  4280,  4300,\n",
       "        4320,  4340,  4360,  4380,  4400,  4420,  4440,  4460,  4480,\n",
       "        4500,  4520,  4540,  4560,  4580,  4600,  4620,  4640,  4660,\n",
       "        4680,  4700,  4720,  4740,  4760,  4780,  4800,  4820,  4840,\n",
       "        4860,  4880,  4900,  4920,  4940,  4960,  4980,  5000,  5020,\n",
       "        5040,  5060,  5080,  5100,  5120,  5140,  5160,  5180,  5200,\n",
       "        5220,  5240,  5260,  5280,  5300,  5320,  5340,  5360,  5380,\n",
       "        5400,  5420,  5440,  5460,  5480,  5500,  5520,  5540,  5560,\n",
       "        5580,  5600,  5620,  5640,  5660,  5680,  5700,  5720,  5740,\n",
       "        5760,  5780,  5800,  5820,  5840,  5860,  5880,  5900,  5920,\n",
       "        5940,  5960,  5980,  6000,  6020,  6040,  6060,  6080,  6100,\n",
       "        6120,  6140,  6160,  6180,  6200,  6220,  6240,  6260,  6280,\n",
       "        6300,  6320,  6340,  6360,  6380,  6400,  6420,  6440,  6460,\n",
       "        6480,  6500,  6520,  6540,  6560,  6580,  6600,  6620,  6640,\n",
       "        6660,  6680,  6700,  6720,  6740,  6760,  6780,  6800,  6820,\n",
       "        6840,  6860,  6880,  6900,  6920,  6940,  6960,  6980,  7000,\n",
       "        7020,  7040,  7060,  7080,  7100,  7120,  7140,  7160,  7180,\n",
       "        7200,  7220,  7240,  7260,  7280,  7300,  7320,  7340,  7360,\n",
       "        7380,  7400,  7420,  7440,  7460,  7480,  7500,  7520,  7540,\n",
       "        7560,  7580,  7600,  7620,  7640,  7660,  7680,  7700,  7720,\n",
       "        7740,  7760,  7780,  7800,  7820,  7840,  7860,  7880,  7900,\n",
       "        7920,  7940,  7960,  7980,  8000,  8020,  8040,  8060,  8080,\n",
       "        8100,  8120,  8140,  8160,  8180,  8200,  8220,  8240,  8260,\n",
       "        8280,  8300,  8320,  8340,  8360,  8380,  8400,  8420,  8440,\n",
       "        8460,  8480,  8500,  8520,  8540,  8560,  8580,  8600,  8620,\n",
       "        8640,  8660,  8680,  8700,  8720,  8740,  8760,  8780,  8800,\n",
       "        8820,  8840,  8860,  8880,  8900,  8920,  8940,  8960,  8980,\n",
       "        9000,  9020,  9040,  9060,  9080,  9100,  9120,  9140,  9160,\n",
       "        9180,  9200,  9220,  9240,  9260,  9280,  9300,  9320,  9340,\n",
       "        9360,  9380,  9400,  9420,  9440,  9460,  9480,  9500,  9520,\n",
       "        9540,  9560,  9580,  9600,  9620,  9640,  9660,  9680,  9700,\n",
       "        9720,  9740,  9760,  9780,  9800,  9820,  9840,  9860,  9880,\n",
       "        9900,  9920,  9940,  9960,  9980, 10000])"
      ]
     },
     "execution_count": 12,
     "metadata": {},
     "output_type": "execute_result"
    }
   ],
   "source": [
    "year.balance"
   ]
  },
  {
   "cell_type": "code",
   "execution_count": 13,
   "metadata": {},
   "outputs": [
    {
     "name": "stdout",
     "output_type": "stream",
     "text": [
      "   current_age  current_bal\n",
      "0           50         1000\n",
      "1           54          900\n",
      "2           54          500\n",
      "3           57         1500\n",
      "4           62         1200\n",
      "5           65         1600\n"
     ]
    }
   ],
   "source": [
    "# client data\n",
    "current_age = np.array([50, 54, 54, 57, 62, 65])\n",
    "current_bal = np.array([1000, 900, 500, 1500, 1200, 1600])\n",
    "\n",
    "client_data = pd.DataFrame({'current_age': current_age, 'current_bal': current_bal}, columns=['current_age', 'current_bal'])\n",
    "print(client_data)"
   ]
  },
  {
   "cell_type": "markdown",
   "metadata": {},
   "source": [
    "## current mix choice for six clients"
   ]
  },
  {
   "cell_type": "code",
   "execution_count": 14,
   "metadata": {},
   "outputs": [
    {
     "name": "stdout",
     "output_type": "stream",
     "text": [
      "1\n",
      "1\n",
      "1\n",
      "1\n",
      "1\n",
      "3\n"
     ]
    }
   ],
   "source": [
    "# get current mix for each client (1-6)\n",
    "for i in range(6):\n",
    "    \n",
    "    age = client_data.current_age[i]\n",
    "    bal = client_data.current_bal[i]\n",
    "    \n",
    "    mix = year.get_first_action(age, bal)+1\n",
    "    print(mix)"
   ]
  },
  {
   "cell_type": "markdown",
   "metadata": {},
   "source": [
    "## Step 2: simulate for each client\n",
    "(1) In the first step, we can get the current mix (decision at current age) of each client.  \n",
    "(2) Stochastic programming: simulate new return to calculate account balance for next year and look up the table to make a decision for near year.  \n",
    "(3) At the retire age 67, it can get an average account balance and test it whether it is larger than TARGET.  "
   ]
  },
  {
   "cell_type": "code",
   "execution_count": 15,
   "metadata": {},
   "outputs": [],
   "source": [
    "# function for simulation in second step\n",
    "def simulate(age, balance, retire = 67):\n",
    "    trajectory = []\n",
    "    first_action = year.get_first_action(age, balance)\n",
    "    actions = np.tile(first_action, N_SCENARIO)\n",
    "    balances = np.tile(balance, N_SCENARIO)\n",
    "    row = np.indices((N_SCENARIO,))\n",
    "    while age < retire:\n",
    "        scenario = 1 + generate_scenario(N_SCENARIO) - fee_r # N * 8\n",
    "        saving = get_saving(age)\n",
    "        balances = balances * scenario[row, actions].reshape(-1) + saving\n",
    "        trajectory.append(actions)\n",
    "        age += 1\n",
    "        #print(\"action shape\", actions.shape)\n",
    "        #print(\"bal shape\", balances.shape)\n",
    "        actions = year.simulate_actions(age, balances, actions).astype(int)\n",
    "        \n",
    "    return balances, np.array(trajectory)"
   ]
  },
  {
   "cell_type": "markdown",
   "metadata": {},
   "source": [
    "## Client 1: Amy Abrams"
   ]
  },
  {
   "cell_type": "code",
   "execution_count": 16,
   "metadata": {},
   "outputs": [
    {
     "name": "stdout",
     "output_type": "stream",
     "text": [
      "2811.4507034819235\n",
      "True\n"
     ]
    }
   ],
   "source": [
    "client1, t = simulate(50, 1000)\n",
    "print(client1.mean())\n",
    "print(client1.mean()>=TARGET)"
   ]
  },
  {
   "cell_type": "code",
   "execution_count": 17,
   "metadata": {},
   "outputs": [
    {
     "data": {
      "text/plain": [
       "0.5761"
      ]
     },
     "execution_count": 17,
     "metadata": {},
     "output_type": "execute_result"
    }
   ],
   "source": [
    "(client1>TARGET).mean()"
   ]
  },
  {
   "cell_type": "code",
   "execution_count": 18,
   "metadata": {},
   "outputs": [
    {
     "data": {
      "image/png": "[encoded data removed]",
      "text/plain": [
       "<matplotlib.figure.Figure at 0x11f58e978>"
      ]
     },
     "metadata": {},
     "output_type": "display_data"
    }
   ],
   "source": [
    "import seaborn as sns\n",
    "sns.distplot(client1)\n",
    "plt.title('client 1: Amy Abram')\n",
    "plt.show()"
   ]
  },
  {
   "cell_type": "code",
   "execution_count": 31,
   "metadata": {},
   "outputs": [
    {
     "data": {
      "image/png": "[encoded data removed]",
      "text/plain": [
       "<matplotlib.figure.Figure at 0x134d8a7b8>"
      ]
     },
     "metadata": {},
     "output_type": "display_data"
    }
   ],
   "source": [
    "a1 = t[-1,:]+1\n",
    "sns.distplot(a1)\n",
    "plt.title('client 1: Amy Abram, age 51')\n",
    "plt.show()"
   ]
  },
  {
   "cell_type": "code",
   "execution_count": 30,
   "metadata": {},
   "outputs": [
    {
     "data": {
      "text/plain": [
       "(array([0, 1, 2, 3, 4, 5, 6, 7]),\n",
       " array([6180, 1185, 1107,  931,  563,   15,    8,   11]))"
      ]
     },
     "execution_count": 30,
     "metadata": {},
     "output_type": "execute_result"
    }
   ],
   "source": [
    "np.unique(t[-1, :], return_counts=True)"
   ]
  },
  {
   "cell_type": "code",
   "execution_count": null,
   "metadata": {},
   "outputs": [],
   "source": []
  },
  {
   "cell_type": "code",
   "execution_count": 20,
   "metadata": {},
   "outputs": [
    {
     "data": {
      "text/plain": [
       "Ttest_1sampResult(statistic=43.19516745970803, pvalue=0.0)"
      ]
     },
     "execution_count": 20,
     "metadata": {},
     "output_type": "execute_result"
    }
   ],
   "source": [
    "from scipy.stats import ttest_1samp\n",
    "ttest_1samp(client1, 2079.2)"
   ]
  },
  {
   "cell_type": "code",
   "execution_count": 21,
   "metadata": {},
   "outputs": [
    {
     "name": "stdout",
     "output_type": "stream",
     "text": [
      "t= 43.19516745970803 p_twoTail= 0.0 p_oneTail =  0.0\n"
     ]
    }
   ],
   "source": [
    "from scipy import stats\n",
    "\n",
    "t,p_twoTail =stats.ttest_1samp(client1, TARGET)\n",
    "p_oneTail = p_twoTail/2\n",
    "\n",
    "print(\"t=\",t,\"p_twoTail=\",p_twoTail, \"p_oneTail = \", p_oneTail)"
   ]
  },
  {
   "cell_type": "markdown",
   "metadata": {},
   "source": [
    "## client 2: Bob Brown"
   ]
  },
  {
   "cell_type": "code",
   "execution_count": 22,
   "metadata": {},
   "outputs": [
    {
     "name": "stdout",
     "output_type": "stream",
     "text": [
      "2031.5331090140846\n",
      "False\n"
     ]
    }
   ],
   "source": [
    "client2, t = simulate(54, 900)\n",
    "print(client2.mean())\n",
    "print(client2.mean()>=TARGET)"
   ]
  },
  {
   "cell_type": "code",
   "execution_count": 23,
   "metadata": {},
   "outputs": [
    {
     "data": {
      "text/plain": [
       "0.3526"
      ]
     },
     "execution_count": 23,
     "metadata": {},
     "output_type": "execute_result"
    }
   ],
   "source": [
    "(client2>TARGET).mean()"
   ]
  },
  {
   "cell_type": "code",
   "execution_count": 24,
   "metadata": {},
   "outputs": [
    {
     "data": {
      "image/png": "[encoded data removed]",
      "text/plain": [
       "<matplotlib.figure.Figure at 0x120ce92b0>"
      ]
     },
     "metadata": {},
     "output_type": "display_data"
    }
   ],
   "source": [
    "sns.distplot(client2)\n",
    "plt.title('client 2: Bob Brown')\n",
    "plt.show()"
   ]
  },
  {
   "cell_type": "code",
   "execution_count": 25,
   "metadata": {},
   "outputs": [
    {
     "data": {
      "text/plain": [
       "Ttest_1sampResult(statistic=-4.53342747269011, pvalue=5.8708670830048214e-06)"
      ]
     },
     "execution_count": 25,
     "metadata": {},
     "output_type": "execute_result"
    }
   ],
   "source": [
    "from scipy.stats import ttest_1samp\n",
    "ttest_1samp(client2, TARGET)"
   ]
  },
  {
   "cell_type": "markdown",
   "metadata": {},
   "source": [
    "## client 3: Carla Clausen"
   ]
  },
  {
   "cell_type": "code",
   "execution_count": 26,
   "metadata": {},
   "outputs": [
    {
     "name": "stdout",
     "output_type": "stream",
     "text": [
      "1258.4781021340698\n",
      "False\n"
     ]
    }
   ],
   "source": [
    "client3, t = simulate(54, 500)\n",
    "print(client3.mean())\n",
    "print(client3.mean()>=TARGET)"
   ]
  },
  {
   "cell_type": "code",
   "execution_count": 27,
   "metadata": {},
   "outputs": [
    {
     "data": {
      "text/plain": [
       "0.0763"
      ]
     },
     "execution_count": 27,
     "metadata": {},
     "output_type": "execute_result"
    }
   ],
   "source": [
    "(client3>TARGET).mean()"
   ]
  },
  {
   "cell_type": "code",
   "execution_count": 28,
   "metadata": {},
   "outputs": [
    {
     "data": {
      "text/plain": [
       "Ttest_1sampResult(statistic=-135.30666536700704, pvalue=0.0)"
      ]
     },
     "execution_count": 28,
     "metadata": {},
     "output_type": "execute_result"
    }
   ],
   "source": [
    "from scipy.stats import ttest_1samp\n",
    "ttest_1samp(client3, TARGET)"
   ]
  },
  {
   "cell_type": "code",
   "execution_count": 29,
   "metadata": {},
   "outputs": [
    {
     "data": {
      "image/png": "[encoded data removed]",
      "text/plain": [
       "<matplotlib.figure.Figure at 0x120ce9588>"
      ]
     },
     "metadata": {},
     "output_type": "display_data"
    }
   ],
   "source": [
    "sns.distplot(client3)\n",
    "plt.title('client 3: Carla Clausen')\n",
    "plt.show()"
   ]
  },
  {
   "cell_type": "markdown",
   "metadata": {},
   "source": [
    "## client 4: Darrin Dorne"
   ]
  },
  {
   "cell_type": "code",
   "execution_count": 30,
   "metadata": {},
   "outputs": [
    {
     "name": "stdout",
     "output_type": "stream",
     "text": [
      "2697.6921670288416\n",
      "True\n"
     ]
    }
   ],
   "source": [
    "client4, t = simulate(57, 1500)\n",
    "print(client4.mean())\n",
    "print(client4.mean()>=TARGET)"
   ]
  },
  {
   "cell_type": "code",
   "execution_count": 31,
   "metadata": {},
   "outputs": [
    {
     "data": {
      "text/plain": [
       "0.614"
      ]
     },
     "execution_count": 31,
     "metadata": {},
     "output_type": "execute_result"
    }
   ],
   "source": [
    "(client4>TARGET).mean()"
   ]
  },
  {
   "cell_type": "code",
   "execution_count": 32,
   "metadata": {},
   "outputs": [
    {
     "data": {
      "image/png": "[encoded data removed]",
      "text/plain": [
       "<matplotlib.figure.Figure at 0x136655860>"
      ]
     },
     "metadata": {},
     "output_type": "display_data"
    }
   ],
   "source": [
    "sns.distplot(client4)\n",
    "plt.title('client 4: Darrin Dorne')\n",
    "plt.show()"
   ]
  },
  {
   "cell_type": "markdown",
   "metadata": {},
   "source": [
    "## client 5: Eric Evans"
   ]
  },
  {
   "cell_type": "code",
   "execution_count": 46,
   "metadata": {},
   "outputs": [
    {
     "name": "stdout",
     "output_type": "stream",
     "text": [
      "1617.3050230518998\n",
      "False\n"
     ]
    }
   ],
   "source": [
    "client5, t = simulate(62, 1200)\n",
    "print(client5.mean())\n",
    "print(client5.mean()>=TARGET)"
   ]
  },
  {
   "cell_type": "code",
   "execution_count": 34,
   "metadata": {},
   "outputs": [
    {
     "data": {
      "text/plain": [
       "0.1329"
      ]
     },
     "execution_count": 34,
     "metadata": {},
     "output_type": "execute_result"
    }
   ],
   "source": [
    "(client5>TARGET).mean()"
   ]
  },
  {
   "cell_type": "code",
   "execution_count": 35,
   "metadata": {},
   "outputs": [
    {
     "data": {
      "image/png": "[encoded data removed]",
      "text/plain": [
       "<matplotlib.figure.Figure at 0x136674588>"
      ]
     },
     "metadata": {},
     "output_type": "display_data"
    }
   ],
   "source": [
    "sns.distplot(client5)\n",
    "plt.title('client 5: Eric Evans')\n",
    "plt.show()"
   ]
  },
  {
   "cell_type": "markdown",
   "metadata": {},
   "source": [
    "## client 6: Francine Farnsworth"
   ]
  },
  {
   "cell_type": "code",
   "execution_count": 36,
   "metadata": {},
   "outputs": [
    {
     "name": "stdout",
     "output_type": "stream",
     "text": [
      "1771.8678836769\n",
      "False\n"
     ]
    }
   ],
   "source": [
    "client6, t = simulate(65, 1600)\n",
    "print(client6.mean())\n",
    "print(client6.mean()>=TARGET)"
   ]
  },
  {
   "cell_type": "code",
   "execution_count": 37,
   "metadata": {},
   "outputs": [
    {
     "data": {
      "text/plain": [
       "0.1241"
      ]
     },
     "execution_count": 37,
     "metadata": {},
     "output_type": "execute_result"
    }
   ],
   "source": [
    "(client6>TARGET).mean()"
   ]
  },
  {
   "cell_type": "code",
   "execution_count": 38,
   "metadata": {},
   "outputs": [
    {
     "data": {
      "image/png": "[encoded data removed]",
      "text/plain": [
       "<matplotlib.figure.Figure at 0x136610898>"
      ]
     },
     "metadata": {},
     "output_type": "display_data"
    }
   ],
   "source": [
    "sns.distplot(client5)\n",
    "plt.title('client 6: Francine Farnsworth')\n",
    "plt.show()"
   ]
  },
  {
   "cell_type": "code",
   "execution_count": 50,
   "metadata": {},
   "outputs": [
    {
     "data": {
      "text/plain": [
       "array([1, 1, 1, ..., 1, 1, 0])"
      ]
     },
     "execution_count": 50,
     "metadata": {},
     "output_type": "execute_result"
    }
   ],
   "source": [
    "t[1,:]"
   ]
  },
  {
   "cell_type": "code",
   "execution_count": null,
   "metadata": {},
   "outputs": [],
   "source": []
  }
 ],
 "metadata": {
  "kernelspec": {
   "display_name": "Python 3",
   "language": "python",
   "name": "python3"
  },
  "language_info": {
   "codemirror_mode": {
    "name": "ipython",
    "version": 3
   },
   "file_extension": ".py",
   "mimetype": "text/x-python",
   "name": "python",
   "nbconvert_exporter": "python",
   "pygments_lexer": "ipython3",
   "version": "3.7.4"
  }
 },
 "nbformat": 4,
 "nbformat_minor": 2
}
